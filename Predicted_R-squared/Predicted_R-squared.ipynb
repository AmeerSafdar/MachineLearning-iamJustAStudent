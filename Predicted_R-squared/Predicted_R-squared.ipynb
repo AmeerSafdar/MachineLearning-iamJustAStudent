{
 "cells": [
  {
   "cell_type": "code",
   "execution_count": 161,
   "metadata": {},
   "outputs": [],
   "source": [
    "import warnings\n",
    "import numpy as np\n",
    "import pandas as pd\n",
    "import statsmodels.formula.api as smapi\n",
    "import matplotlib.pyplot as plt\n",
    "\n",
    "warnings.filterwarnings(\"ignore\")\n",
    "plt.style.use(\"fivethirtyeight\")\n",
    "np.set_printoptions(precision=2, edgeitems=3, linewidth=1000000)"
   ]
  },
  {
   "cell_type": "code",
   "execution_count": 162,
   "metadata": {},
   "outputs": [
    {
     "name": "stdout",
     "output_type": "stream",
     "text": [
      "     X   Y\n",
      "0   70  23\n",
      "1   68  30\n",
      "2   76  26\n",
      "3   69  11\n",
      "4   82  10\n",
      "5   83   3\n",
      "6   79   9\n",
      "7   78  12\n",
      "8   88   7\n",
      "9   91  39\n",
      "10  89  23\n",
      "11  73  19\n"
     ]
    }
   ],
   "source": [
    "# Read in some data\n",
    "df = pd.read_csv('PredictedR2.csv')\n",
    "print(df)"
   ]
  },
  {
   "cell_type": "code",
   "execution_count": 163,
   "metadata": {},
   "outputs": [
    {
     "data": {
      "text/plain": [
       "<matplotlib.collections.PathCollection at 0x226b47de9c8>"
      ]
     },
     "execution_count": 163,
     "metadata": {},
     "output_type": "execute_result"
    },
    {
     "data": {
      "image/png": "[encoded data removed]",
      "text/plain": [
       "<Figure size 576x288 with 1 Axes>"
      ]
     },
     "metadata": {},
     "output_type": "display_data"
    }
   ],
   "source": [
    "plt.figure(figsize=(8,4))\n",
    "plt.scatter(df.X, df.Y)"
   ]
  },
  {
   "cell_type": "code",
   "execution_count": 164,
   "metadata": {},
   "outputs": [
    {
     "name": "stdout",
     "output_type": "stream",
     "text": [
      "                            OLS Regression Results                            \n",
      "==============================================================================\n",
      "Dep. Variable:                      Y   R-squared:                       0.000\n",
      "Model:                            OLS   Adj. R-squared:                 -0.100\n",
      "Method:                 Least Squares   F-statistic:                  0.001805\n",
      "Date:                Sun, 06 Sep 2020   Prob (F-statistic):              0.967\n",
      "Time:                        20:37:13   Log-Likelihood:                -45.019\n",
      "No. Observations:                  12   AIC:                             94.04\n",
      "Df Residuals:                      10   BIC:                             95.01\n",
      "Df Model:                           1                                         \n",
      "Covariance Type:            nonrobust                                         \n",
      "==============================================================================\n",
      "                 coef    std err          t      P>|t|      [0.025      0.975]\n",
      "------------------------------------------------------------------------------\n",
      "Intercept     19.0979     33.851      0.564      0.585     -56.326      94.522\n",
      "X             -0.0182      0.427     -0.042      0.967      -0.970       0.934\n",
      "==============================================================================\n",
      "Omnibus:                        0.949   Durbin-Watson:                   1.343\n",
      "Prob(Omnibus):                  0.622   Jarque-Bera (JB):                0.772\n",
      "Skew:                           0.519   Prob(JB):                        0.680\n",
      "Kurtosis:                       2.317   Cond. No.                         823.\n",
      "==============================================================================\n",
      "\n",
      "Warnings:\n",
      "[1] Standard Errors assume that the covariance matrix of the errors is correctly specified.\n"
     ]
    }
   ],
   "source": [
    "model = smapi.ols('Y ~ X', df)\n",
    "fit = model.fit() \n",
    "print(fit.summary())"
   ]
  },
  {
   "cell_type": "code",
   "execution_count": 165,
   "metadata": {},
   "outputs": [],
   "source": [
    "# reference: # https://gist.github.com/benjaminmgross/d71f161d48378d34b6970fa6d7378837\n",
    "\n",
    "def predicted_r2(y_true, y_pred, xs):\n",
    "    residue = y_pred - y_true\n",
    "    hat = xs.dot(np.linalg.pinv(xs))\n",
    "    sqr = np.square(residue/(1 - np.diagonal(hat)))\n",
    "    return 1 - sqr.sum() / (np.square(y_true - y_true.mean()).sum())"
   ]
  },
  {
   "cell_type": "code",
   "execution_count": 166,
   "metadata": {},
   "outputs": [
    {
     "data": {
      "text/plain": [
       "<matplotlib.legend.Legend at 0x226b4844788>"
      ]
     },
     "execution_count": 166,
     "metadata": {},
     "output_type": "execute_result"
    },
    {
     "data": {
      "image/png": "[encoded data removed]",
      "text/plain": [
       "<Figure size 576x288 with 1 Axes>"
      ]
     },
     "metadata": {},
     "output_type": "display_data"
    }
   ],
   "source": [
    "df['y_pred'] = fit.fittedvalues\n",
    "fig, ax = plt.subplots(figsize=(8,4))\n",
    "ax.plot(df.X, df.Y, 'o', label=\"True\")\n",
    "ax.plot(df.sort_values('X')['X'], df.sort_values('X')['y_pred'], 'r-', label=\"Predicted\", alpha=0.5)\n",
    "ax.legend(loc='best')"
   ]
  },
  {
   "cell_type": "code",
   "execution_count": null,
   "metadata": {},
   "outputs": [],
   "source": []
  },
  {
   "cell_type": "code",
   "execution_count": 167,
   "metadata": {},
   "outputs": [],
   "source": [
    "# model with 3rd degree polynomial features"
   ]
  },
  {
   "cell_type": "code",
   "execution_count": 168,
   "metadata": {},
   "outputs": [
    {
     "name": "stdout",
     "output_type": "stream",
     "text": [
      "                            OLS Regression Results                            \n",
      "==============================================================================\n",
      "Dep. Variable:                      Y   R-squared:                       0.668\n",
      "Model:                            OLS   Adj. R-squared:                  0.543\n",
      "Method:                 Least Squares   F-statistic:                     5.356\n",
      "Date:                Sun, 06 Sep 2020   Prob (F-statistic):             0.0257\n",
      "Time:                        20:37:14   Log-Likelihood:                -38.412\n",
      "No. Observations:                  12   AIC:                             84.82\n",
      "Df Residuals:                       8   BIC:                             86.76\n",
      "Df Model:                           3                                         \n",
      "Covariance Type:            nonrobust                                         \n",
      "==================================================================================\n",
      "                     coef    std err          t      P>|t|      [0.025      0.975]\n",
      "----------------------------------------------------------------------------------\n",
      "Intercept      -9789.2550   4108.531     -2.383      0.044   -1.93e+04    -314.966\n",
      "X                385.1250    156.834      2.456      0.040      23.465     746.785\n",
      "np.power(X, 2)    -5.0108      1.986     -2.523      0.036      -9.590      -0.432\n",
      "np.power(X, 3)     0.0216      0.008      2.589      0.032       0.002       0.041\n",
      "==============================================================================\n",
      "Omnibus:                        0.028   Durbin-Watson:                   2.367\n",
      "Prob(Omnibus):                  0.986   Jarque-Bera (JB):                0.148\n",
      "Skew:                          -0.063   Prob(JB):                        0.928\n",
      "Kurtosis:                       2.470   Cond. No.                     1.03e+09\n",
      "==============================================================================\n",
      "\n",
      "Warnings:\n",
      "[1] Standard Errors assume that the covariance matrix of the errors is correctly specified.\n",
      "[2] The condition number is large, 1.03e+09. This might indicate that there are\n",
      "strong multicollinearity or other numerical problems.\n"
     ]
    }
   ],
   "source": [
    "model2 = smapi.ols('Y ~ X + np.power(X, 2) + np.power(X, 3)', df)\n",
    "fit2 = model2.fit() \n",
    "print(fit2.summary())"
   ]
  },
  {
   "cell_type": "code",
   "execution_count": 169,
   "metadata": {},
   "outputs": [
    {
     "data": {
      "text/plain": [
       "<matplotlib.legend.Legend at 0x226b48b1848>"
      ]
     },
     "execution_count": 169,
     "metadata": {},
     "output_type": "execute_result"
    },
    {
     "data": {
      "image/png": "[encoded data removed]",
      "text/plain": [
       "<Figure size 576x288 with 1 Axes>"
      ]
     },
     "metadata": {},
     "output_type": "display_data"
    }
   ],
   "source": [
    "df['y_pred'] = fit2.fittedvalues\n",
    "fig, ax = plt.subplots(figsize=(8,4))\n",
    "ax.plot(df.X, df.Y, 'bo', label=\"True\")\n",
    "ax.plot(df.sort_values('X')['X'], df.sort_values('X')['y_pred'], 'r-', label=\"Predicted\", alpha=0.5)\n",
    "ax.legend(loc='best')"
   ]
  },
  {
   "cell_type": "code",
   "execution_count": 170,
   "metadata": {},
   "outputs": [
    {
     "name": "stdout",
     "output_type": "stream",
     "text": [
      "Predicted R-squared (model 2): 0.0171958079499418\n"
     ]
    }
   ],
   "source": [
    "print(f\"Predicted R-squared (model 2): {predicted_r2(df.Y, fit2.fittedvalues, model2.exog)}\")"
   ]
  },
  {
   "cell_type": "code",
   "execution_count": null,
   "metadata": {},
   "outputs": [],
   "source": []
  },
  {
   "cell_type": "code",
   "execution_count": 171,
   "metadata": {},
   "outputs": [],
   "source": [
    "# model with 7th degree polynomial features"
   ]
  },
  {
   "cell_type": "code",
   "execution_count": 172,
   "metadata": {},
   "outputs": [
    {
     "name": "stdout",
     "output_type": "stream",
     "text": [
      "                            OLS Regression Results                            \n",
      "==============================================================================\n",
      "Dep. Variable:                      Y   R-squared:                       0.735\n",
      "Model:                            OLS   Adj. R-squared:                  0.584\n",
      "Method:                 Least Squares   F-statistic:                     4.863\n",
      "Date:                Sun, 06 Sep 2020   Prob (F-statistic):             0.0341\n",
      "Time:                        20:37:15   Log-Likelihood:                -37.044\n",
      "No. Observations:                  12   AIC:                             84.09\n",
      "Df Residuals:                       7   BIC:                             86.51\n",
      "Df Model:                           4                                         \n",
      "Covariance Type:            nonrobust                                         \n",
      "==================================================================================\n",
      "                     coef    std err          t      P>|t|      [0.025      0.975]\n",
      "----------------------------------------------------------------------------------\n",
      "Intercept       3.781e-06   7.06e-06      0.536      0.609   -1.29e-05    2.05e-05\n",
      "X                  0.0001      0.000      0.536      0.609      -0.000       0.001\n",
      "np.power(X, 2)     0.0034      0.006      0.536      0.609      -0.012       0.018\n",
      "np.power(X, 3)     0.0534      0.100      0.535      0.609      -0.182       0.289\n",
      "np.power(X, 4)    -0.0029      0.005     -0.568      0.587      -0.015       0.009\n",
      "np.power(X, 5)  5.732e-05   9.45e-05      0.606      0.563      -0.000       0.000\n",
      "np.power(X, 6) -5.105e-07   7.88e-07     -0.648      0.538   -2.37e-06    1.35e-06\n",
      "np.power(X, 7)  1.701e-09   2.46e-09      0.693      0.511   -4.11e-09    7.51e-09\n",
      "==============================================================================\n",
      "Omnibus:                        0.093   Durbin-Watson:                   2.215\n",
      "Prob(Omnibus):                  0.954   Jarque-Bera (JB):                0.115\n",
      "Skew:                          -0.096   Prob(JB):                        0.944\n",
      "Kurtosis:                       2.561   Cond. No.                     2.34e+21\n",
      "==============================================================================\n",
      "\n",
      "Warnings:\n",
      "[1] Standard Errors assume that the covariance matrix of the errors is correctly specified.\n",
      "[2] The smallest eigenvalue is 1.61e-15. This might indicate that there are\n",
      "strong multicollinearity problems or that the design matrix is singular.\n"
     ]
    }
   ],
   "source": [
    "model3 = smapi.ols('Y ~ X + np.power(X, 2) + np.power(X, 3) + np.power(X, 4) + np.power(X, 5) + np.power(X, 6) + np.power(X, 7)', df)\n",
    "fit3 = model3.fit() \n",
    "print(fit3.summary())"
   ]
  },
  {
   "cell_type": "code",
   "execution_count": 173,
   "metadata": {},
   "outputs": [
    {
     "data": {
      "text/plain": [
       "<matplotlib.legend.Legend at 0x226b493acc8>"
      ]
     },
     "execution_count": 173,
     "metadata": {},
     "output_type": "execute_result"
    },
    {
     "data": {
      "image/png": "[encoded data removed]",
      "text/plain": [
       "<Figure size 576x288 with 1 Axes>"
      ]
     },
     "metadata": {},
     "output_type": "display_data"
    }
   ],
   "source": [
    "df['y_pred'] = fit3.fittedvalues\n",
    "fig, ax = plt.subplots(figsize=(8,4))\n",
    "ax.plot(df.X, df.Y, 'bo', label=\"True\")\n",
    "ax.plot(df.sort_values('X')['X'], df.sort_values('X')['y_pred'], 'r-', label=\"Predicted\", alpha=0.5)\n",
    "ax.legend(loc='best')"
   ]
  },
  {
   "cell_type": "code",
   "execution_count": 174,
   "metadata": {},
   "outputs": [
    {
     "name": "stdout",
     "output_type": "stream",
     "text": [
      "Predicted R-squared (model 3): -0.6397628249278184\n"
     ]
    }
   ],
   "source": [
    "print(f\"Predicted R-squared (model 3): {predicted_r2(df.Y, fit3.fittedvalues, model3.exog)}\")"
   ]
  },
  {
   "cell_type": "code",
   "execution_count": null,
   "metadata": {},
   "outputs": [],
   "source": []
  },
  {
   "cell_type": "code",
   "execution_count": null,
   "metadata": {},
   "outputs": [],
   "source": []
  }
 ],
 "metadata": {
  "kernelspec": {
   "display_name": "Python 3",
   "language": "python",
   "name": "python3"
  },
  "language_info": {
   "codemirror_mode": {
    "name": "ipython",
    "version": 3
   },
   "file_extension": ".py",
   "mimetype": "text/x-python",
   "name": "python",
   "nbconvert_exporter": "python",
   "pygments_lexer": "ipython3",
   "version": "3.7.6"
  }
 },
 "nbformat": 4,
 "nbformat_minor": 4
}
